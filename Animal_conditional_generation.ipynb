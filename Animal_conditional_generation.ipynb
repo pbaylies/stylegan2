{
 "cells": [
  {
   "cell_type": "code",
   "execution_count": 1,
   "metadata": {},
   "outputs": [
    {
     "name": "stdout",
     "output_type": "stream",
     "text": [
      "Setting up TensorFlow plugin \"fused_bias_act.cu\": Preprocessing... Loading... Done.\n",
      "Setting up TensorFlow plugin \"upfirdn_2d.cu\": Preprocessing... Loading... Done.\n"
     ]
    }
   ],
   "source": [
    "import ipywidgets as widgets\n",
    "import pretrained_networks\n",
    "import PIL.Image\n",
    "import numpy as np\n",
    "import dnnlib\n",
    "import dnnlib.tflib as tflib\n",
    "\n",
    "network_pkl = 'results/00008-stylegan2-afhq_labeld-2gpu-cond-config-e/network-snapshot-005532.pkl'\n",
    "_G, _D, Gs = pretrained_networks.load_networks(network_pkl)\n",
    "\n",
    "Gs_syn_kwargs = dnnlib.EasyDict()\n",
    "batch_size = 1\n",
    "Gs_syn_kwargs.output_transform = dict(func=tflib.convert_images_to_uint8, nchw_to_nhwc=True)\n",
    "Gs_syn_kwargs.randomize_noise = True\n",
    "Gs_syn_kwargs.minibatch_size = batch_size"
   ]
  },
  {
   "cell_type": "code",
   "execution_count": 2,
   "metadata": {},
   "outputs": [],
   "source": [
    "def display_sample_conditional(cat, dog, wild, seed, truncation, return_img=False):\n",
    "    batch_size = 1\n",
    "    l1 = np.zeros((1,3))\n",
    "    l1[0][0] = cat\n",
    "    l1[0][1] = dog\n",
    "    l1[0][2] = wild\n",
    "\n",
    "    all_seeds = [seed] * batch_size\n",
    "    all_z = np.stack([np.random.RandomState(seed).randn(*Gs.input_shape[1:]) for seed in all_seeds])\n",
    "    all_w = Gs.components.mapping.run(all_z, np.tile(l1, (batch_size, 1))) # [minibatch, layer, component]\n",
    "    if truncation != 1:\n",
    "        w_avg = Gs.get_var('dlatent_avg')\n",
    "        all_w = w_avg + (all_w - w_avg) * truncation # [minibatch, layer, component]\n",
    "    all_images = Gs.components.synthesis.run(all_w, **Gs_syn_kwargs)\n",
    "    if return_img:\n",
    "        return PIL.Image.fromarray(np.median(all_images, axis=0).astype(np.uint8))\n",
    "    else:\n",
    "        display(PIL.Image.fromarray(np.median(all_images, axis=0).astype(np.uint8)))"
   ]
  },
  {
   "cell_type": "markdown",
   "metadata": {},
   "source": [
    "## Conditional generation of animals"
   ]
  },
  {
   "cell_type": "code",
   "execution_count": 3,
   "metadata": {},
   "outputs": [
    {
     "data": {
      "application/vnd.jupyter.widget-view+json": {
       "model_id": "98f48f5da35944b786a0b75bed53689b",
       "version_major": 2,
       "version_minor": 0
      },
      "text/plain": [
       "VBox(children=(HBox(children=(Dropdown(description='Animal: ', options=(('Cat', 0), ('Dog', 1), ('Wild', 2)), …"
      ]
     },
     "metadata": {},
     "output_type": "display_data"
    },
    {
     "data": {
      "application/vnd.jupyter.widget-view+json": {
       "model_id": "f8e7679cc6f64da684a15169492bb270",
       "version_major": 2,
       "version_minor": 0
      },
      "text/plain": [
       "Output()"
      ]
     },
     "metadata": {},
     "output_type": "display_data"
    }
   ],
   "source": [
    "animal = widgets.Dropdown(\n",
    "    options=[('Cat', 0), ('Dog', 1), ('Wild', 2)],\n",
    "    value=0,\n",
    "    description='Animal: '\n",
    ")\n",
    "\n",
    "seed = widgets.IntSlider(min=0, max=100000, step=1, value=0, description='Seed: ')\n",
    "truncation = widgets.FloatSlider(min=0, max=1, step=0.1, value=1, description='Truncation: ')\n",
    "\n",
    "top_box = widgets.HBox([animal])\n",
    "bot_box = widgets.HBox([seed, truncation])\n",
    "ui = widgets.VBox([top_box, bot_box])\n",
    "\n",
    "def display_animal(animal, seed, truncation):\n",
    "    cat = (animal == 0)\n",
    "    dog = (animal == 1)\n",
    "    wild = (animal == 2)\n",
    "    display_sample_conditional(cat, dog, wild, seed, truncation)\n",
    "\n",
    "out = widgets.interactive_output(display_animal, {'animal': animal, 'seed': seed, 'truncation': truncation})\n",
    "\n",
    "display(ui, out)"
   ]
  },
  {
   "cell_type": "markdown",
   "metadata": {},
   "source": [
    "## Mixed generation of animal"
   ]
  },
  {
   "cell_type": "code",
   "execution_count": 4,
   "metadata": {},
   "outputs": [
    {
     "data": {
      "application/vnd.jupyter.widget-view+json": {
       "model_id": "2b148a8930864abe90931cea0a735e5c",
       "version_major": 2,
       "version_minor": 0
      },
      "text/plain": [
       "VBox(children=(HBox(children=(FloatSlider(value=1.0, description='Cat: ', max=1.0, step=0.05), FloatSlider(val…"
      ]
     },
     "metadata": {},
     "output_type": "display_data"
    },
    {
     "data": {
      "application/vnd.jupyter.widget-view+json": {
       "model_id": "914333c5890344a59e3c9a72ac16b4d6",
       "version_major": 2,
       "version_minor": 0
      },
      "text/plain": [
       "Output()"
      ]
     },
     "metadata": {},
     "output_type": "display_data"
    }
   ],
   "source": [
    "cat = widgets.FloatSlider(min=0, max=1, step=0.05, value=1, description='Cat: ')\n",
    "dog = widgets.FloatSlider(min=0, max=1, step=0.05, value=0, description='Dog: ')\n",
    "wild = widgets.FloatSlider(min=0, max=1, step=0.05, value=0, description='Wild: ')\n",
    "\n",
    "top_box = widgets.HBox([cat, dog, wild])\n",
    "bot_box = widgets.HBox([seed, truncation])\n",
    "ui = widgets.VBox([top_box, bot_box])\n",
    "\n",
    "\n",
    "out = widgets.interactive_output(display_sample_conditional,\n",
    "                                 {'cat': cat, 'dog': dog, 'wild': wild,\n",
    "                                  'seed': seed, 'truncation': truncation})\n",
    "\n",
    "display(ui, out)"
   ]
  },
  {
   "cell_type": "markdown",
   "metadata": {},
   "source": [
    "## Transition between labels"
   ]
  },
  {
   "cell_type": "code",
   "execution_count": 5,
   "metadata": {},
   "outputs": [
    {
     "data": {
      "application/vnd.jupyter.widget-view+json": {
       "model_id": "87579cd195d447e6b71e13309f94d4cd",
       "version_major": 2,
       "version_minor": 0
      },
      "text/plain": [
       "VBox(children=(HBox(children=(Dropdown(description='Animal: ', options=('cat2wild', 'cat2dog', 'dog2wild'), va…"
      ]
     },
     "metadata": {},
     "output_type": "display_data"
    },
    {
     "data": {
      "application/vnd.jupyter.widget-view+json": {
       "model_id": "997a0d24b5ed48f091b83eb134c97def",
       "version_major": 2,
       "version_minor": 0
      },
      "text/plain": [
       "Output()"
      ]
     },
     "metadata": {},
     "output_type": "display_data"
    }
   ],
   "source": [
    "direction = widgets.Dropdown(\n",
    "    options=['cat2wild', 'cat2dog', 'dog2wild'],\n",
    "    value='cat2wild',\n",
    "    description='Animal: '\n",
    ")\n",
    "value = widgets.FloatSlider(min=0, max=1, step=0.05, value=1, description='Value: ')\n",
    "\n",
    "\n",
    "top_box = widgets.HBox([direction, value])\n",
    "bot_box = widgets.HBox([seed, truncation])\n",
    "ui = widgets.VBox([top_box, bot_box])\n",
    "\n",
    "def display_transition(direction, value, truncation, seed, return_img=False):\n",
    "    if direction == 'cat2wild':\n",
    "        wild = value\n",
    "        cat = 1 - value\n",
    "        dog = 0\n",
    "    elif direction == 'cat2dog':\n",
    "        dog = value\n",
    "        cat = 1 - value\n",
    "        wild = 0\n",
    "    elif direction == 'dog2wild':\n",
    "        wild = value\n",
    "        dog = 1 - value\n",
    "        cat = 0\n",
    "    else:\n",
    "        raise ValueError('Wrong direction value')\n",
    "    \n",
    "    if return_img:\n",
    "        return display_sample_conditional(cat, dog, wild, seed, truncation, return_img)\n",
    "    else:\n",
    "        display_sample_conditional(cat, dog, wild, seed, truncation, return_img)\n",
    "\n",
    "out = widgets.interactive_output(display_transition, {'direction': direction, 'value': value,\n",
    "                                                      'seed': seed, 'truncation': truncation})\n",
    "\n",
    "display(ui, out)"
   ]
  },
  {
   "cell_type": "markdown",
   "metadata": {},
   "source": [
    "## Save images for animation with imagemagick"
   ]
  },
  {
   "cell_type": "code",
   "execution_count": 6,
   "metadata": {},
   "outputs": [],
   "source": [
    "imgs = [display_transition(direction.value, i, truncation.value, seed.value, return_img=True) for\n",
    "        i in np.linspace(0, 1, 31)]\n",
    "\n",
    "for i, im in enumerate(imgs):\n",
    "    im.save(f'animations/3/{i:03}.jpg')"
   ]
  },
  {
   "cell_type": "markdown",
   "metadata": {},
   "source": [
    "convert -delay 10 -layers optimize animations/3/*.jpg anim3.gif"
   ]
  },
  {
   "cell_type": "code",
   "execution_count": null,
   "metadata": {},
   "outputs": [],
   "source": []
  }
 ],
 "metadata": {
  "kernelspec": {
   "display_name": "Python 3",
   "language": "python",
   "name": "python3"
  },
  "language_info": {
   "codemirror_mode": {
    "name": "ipython",
    "version": 3
   },
   "file_extension": ".py",
   "mimetype": "text/x-python",
   "name": "python",
   "nbconvert_exporter": "python",
   "pygments_lexer": "ipython3",
   "version": "3.6.8"
  }
 },
 "nbformat": 4,
 "nbformat_minor": 2
}
